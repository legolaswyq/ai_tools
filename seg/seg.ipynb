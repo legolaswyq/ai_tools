{
 "cells": [
  {
   "cell_type": "code",
   "execution_count": 31,
   "metadata": {},
   "outputs": [],
   "source": [
    "import tensorflow as tf\n",
    "from tensorflow.keras.models import Model\n",
    "from tensorflow.keras.layers import Conv2D, Conv2DTranspose, BatchNormalization,Activation, MaxPool2D, Concatenate"
   ]
  },
  {
   "cell_type": "code",
   "execution_count": 32,
   "metadata": {},
   "outputs": [],
   "source": [
    "def conv_block(input, num_filters):\n",
    "    x = Conv2D(num_filters, 3, padding=\"same\")(input)\n",
    "    x = BatchNormalization()(x)\n",
    "    x = Activation(\"relu\")(x)\n",
    "\n",
    "    x = Conv2D(num_filters, 3, padding=\"same\")(x)\n",
    "    x = BatchNormalization()(x)\n",
    "    x = Activation(\"relu\")(x)\n",
    "\n",
    "    return x\n",
    "\n",
    "\n",
    "def encoder_block(input, num_filters):\n",
    "    x = conv_block(input, num_filters)\n",
    "    p = MaxPool2D((2, 2))(x)\n",
    "    return x, p\n",
    "\n",
    "\n",
    "def decoder_block(input, skip_features, num_filters):\n",
    "    x = Conv2DTranspose(num_filters, (2, 2), strides=2, padding=\"same\")(input)\n",
    "    x = Concatenate()([x, skip_features])\n",
    "    x = conv_block(x, num_filters)\n",
    "    return x\n",
    "\n",
    "\n",
    "def build_unet(input_shape, n_classes):\n",
    "    inputs = tf.keras.layers.Input(shape=input_shape)\n",
    "    s1, p1 = encoder_block(inputs, 32)\n",
    "    s2, p2 = encoder_block(p1, 64)\n",
    "    s3, p3 = encoder_block(p2, 128)\n",
    "\n",
    "    b1 = conv_block(p3, 512) #Bridge\n",
    "    d2 = decoder_block(b1, s3, 128)\n",
    "    d3 = decoder_block(d2, s2, 64)\n",
    "    d4 = decoder_block(d3, s1, 32)\n",
    "\n",
    "    if n_classes == 1:  #Binary\n",
    "        activation = 'sigmoid'\n",
    "    else:\n",
    "        activation = 'softmax'\n",
    "\n",
    "    outputs = Conv2D(n_classes, 1, padding=\"same\", activation=activation)(d4)\n",
    "    model = Model(inputs, outputs, name=\"U-Net\")\n",
    "    return model"
   ]
  },
  {
   "cell_type": "code",
   "execution_count": 33,
   "metadata": {
    "collapsed": true,
    "jupyter": {
     "outputs_hidden": true
    }
   },
   "outputs": [
    {
     "name": "stdout",
     "output_type": "stream",
     "text": [
      "Model: \"U-Net\"\n",
      "__________________________________________________________________________________________________\n",
      "Layer (type)                    Output Shape         Param #     Connected to                     \n",
      "==================================================================================================\n",
      "input_2 (InputLayer)            [(None, 128, 128, 3) 0                                            \n",
      "__________________________________________________________________________________________________\n",
      "conv2d_15 (Conv2D)              (None, 128, 128, 32) 896         input_2[0][0]                    \n",
      "__________________________________________________________________________________________________\n",
      "batch_normalization_14 (BatchNo (None, 128, 128, 32) 128         conv2d_15[0][0]                  \n",
      "__________________________________________________________________________________________________\n",
      "activation_14 (Activation)      (None, 128, 128, 32) 0           batch_normalization_14[0][0]     \n",
      "__________________________________________________________________________________________________\n",
      "conv2d_16 (Conv2D)              (None, 128, 128, 32) 9248        activation_14[0][0]              \n",
      "__________________________________________________________________________________________________\n",
      "batch_normalization_15 (BatchNo (None, 128, 128, 32) 128         conv2d_16[0][0]                  \n",
      "__________________________________________________________________________________________________\n",
      "activation_15 (Activation)      (None, 128, 128, 32) 0           batch_normalization_15[0][0]     \n",
      "__________________________________________________________________________________________________\n",
      "max_pooling2d_3 (MaxPooling2D)  (None, 64, 64, 32)   0           activation_15[0][0]              \n",
      "__________________________________________________________________________________________________\n",
      "conv2d_17 (Conv2D)              (None, 64, 64, 64)   18496       max_pooling2d_3[0][0]            \n",
      "__________________________________________________________________________________________________\n",
      "batch_normalization_16 (BatchNo (None, 64, 64, 64)   256         conv2d_17[0][0]                  \n",
      "__________________________________________________________________________________________________\n",
      "activation_16 (Activation)      (None, 64, 64, 64)   0           batch_normalization_16[0][0]     \n",
      "__________________________________________________________________________________________________\n",
      "conv2d_18 (Conv2D)              (None, 64, 64, 64)   36928       activation_16[0][0]              \n",
      "__________________________________________________________________________________________________\n",
      "batch_normalization_17 (BatchNo (None, 64, 64, 64)   256         conv2d_18[0][0]                  \n",
      "__________________________________________________________________________________________________\n",
      "activation_17 (Activation)      (None, 64, 64, 64)   0           batch_normalization_17[0][0]     \n",
      "__________________________________________________________________________________________________\n",
      "max_pooling2d_4 (MaxPooling2D)  (None, 32, 32, 64)   0           activation_17[0][0]              \n",
      "__________________________________________________________________________________________________\n",
      "conv2d_19 (Conv2D)              (None, 32, 32, 128)  73856       max_pooling2d_4[0][0]            \n",
      "__________________________________________________________________________________________________\n",
      "batch_normalization_18 (BatchNo (None, 32, 32, 128)  512         conv2d_19[0][0]                  \n",
      "__________________________________________________________________________________________________\n",
      "activation_18 (Activation)      (None, 32, 32, 128)  0           batch_normalization_18[0][0]     \n",
      "__________________________________________________________________________________________________\n",
      "conv2d_20 (Conv2D)              (None, 32, 32, 128)  147584      activation_18[0][0]              \n",
      "__________________________________________________________________________________________________\n",
      "batch_normalization_19 (BatchNo (None, 32, 32, 128)  512         conv2d_20[0][0]                  \n",
      "__________________________________________________________________________________________________\n",
      "activation_19 (Activation)      (None, 32, 32, 128)  0           batch_normalization_19[0][0]     \n",
      "__________________________________________________________________________________________________\n",
      "max_pooling2d_5 (MaxPooling2D)  (None, 16, 16, 128)  0           activation_19[0][0]              \n",
      "__________________________________________________________________________________________________\n",
      "conv2d_21 (Conv2D)              (None, 16, 16, 512)  590336      max_pooling2d_5[0][0]            \n",
      "__________________________________________________________________________________________________\n",
      "batch_normalization_20 (BatchNo (None, 16, 16, 512)  2048        conv2d_21[0][0]                  \n",
      "__________________________________________________________________________________________________\n",
      "activation_20 (Activation)      (None, 16, 16, 512)  0           batch_normalization_20[0][0]     \n",
      "__________________________________________________________________________________________________\n",
      "conv2d_22 (Conv2D)              (None, 16, 16, 512)  2359808     activation_20[0][0]              \n",
      "__________________________________________________________________________________________________\n",
      "batch_normalization_21 (BatchNo (None, 16, 16, 512)  2048        conv2d_22[0][0]                  \n",
      "__________________________________________________________________________________________________\n",
      "activation_21 (Activation)      (None, 16, 16, 512)  0           batch_normalization_21[0][0]     \n",
      "__________________________________________________________________________________________________\n",
      "conv2d_transpose_3 (Conv2DTrans (None, 32, 32, 128)  262272      activation_21[0][0]              \n",
      "__________________________________________________________________________________________________\n",
      "concatenate_3 (Concatenate)     (None, 32, 32, 256)  0           conv2d_transpose_3[0][0]         \n",
      "                                                                 activation_19[0][0]              \n",
      "__________________________________________________________________________________________________\n",
      "conv2d_23 (Conv2D)              (None, 32, 32, 128)  295040      concatenate_3[0][0]              \n",
      "__________________________________________________________________________________________________\n",
      "batch_normalization_22 (BatchNo (None, 32, 32, 128)  512         conv2d_23[0][0]                  \n",
      "__________________________________________________________________________________________________\n",
      "activation_22 (Activation)      (None, 32, 32, 128)  0           batch_normalization_22[0][0]     \n",
      "__________________________________________________________________________________________________\n",
      "conv2d_24 (Conv2D)              (None, 32, 32, 128)  147584      activation_22[0][0]              \n",
      "__________________________________________________________________________________________________\n",
      "batch_normalization_23 (BatchNo (None, 32, 32, 128)  512         conv2d_24[0][0]                  \n",
      "__________________________________________________________________________________________________\n",
      "activation_23 (Activation)      (None, 32, 32, 128)  0           batch_normalization_23[0][0]     \n",
      "__________________________________________________________________________________________________\n",
      "conv2d_transpose_4 (Conv2DTrans (None, 64, 64, 64)   32832       activation_23[0][0]              \n",
      "__________________________________________________________________________________________________\n",
      "concatenate_4 (Concatenate)     (None, 64, 64, 128)  0           conv2d_transpose_4[0][0]         \n",
      "                                                                 activation_17[0][0]              \n",
      "__________________________________________________________________________________________________\n",
      "conv2d_25 (Conv2D)              (None, 64, 64, 64)   73792       concatenate_4[0][0]              \n",
      "__________________________________________________________________________________________________\n",
      "batch_normalization_24 (BatchNo (None, 64, 64, 64)   256         conv2d_25[0][0]                  \n",
      "__________________________________________________________________________________________________\n",
      "activation_24 (Activation)      (None, 64, 64, 64)   0           batch_normalization_24[0][0]     \n",
      "__________________________________________________________________________________________________\n",
      "conv2d_26 (Conv2D)              (None, 64, 64, 64)   36928       activation_24[0][0]              \n",
      "__________________________________________________________________________________________________\n",
      "batch_normalization_25 (BatchNo (None, 64, 64, 64)   256         conv2d_26[0][0]                  \n",
      "__________________________________________________________________________________________________\n",
      "activation_25 (Activation)      (None, 64, 64, 64)   0           batch_normalization_25[0][0]     \n",
      "__________________________________________________________________________________________________\n",
      "conv2d_transpose_5 (Conv2DTrans (None, 128, 128, 32) 8224        activation_25[0][0]              \n",
      "__________________________________________________________________________________________________\n",
      "concatenate_5 (Concatenate)     (None, 128, 128, 64) 0           conv2d_transpose_5[0][0]         \n",
      "                                                                 activation_15[0][0]              \n",
      "__________________________________________________________________________________________________\n",
      "conv2d_27 (Conv2D)              (None, 128, 128, 32) 18464       concatenate_5[0][0]              \n",
      "__________________________________________________________________________________________________\n",
      "batch_normalization_26 (BatchNo (None, 128, 128, 32) 128         conv2d_27[0][0]                  \n",
      "__________________________________________________________________________________________________\n",
      "activation_26 (Activation)      (None, 128, 128, 32) 0           batch_normalization_26[0][0]     \n",
      "__________________________________________________________________________________________________\n",
      "conv2d_28 (Conv2D)              (None, 128, 128, 32) 9248        activation_26[0][0]              \n",
      "__________________________________________________________________________________________________\n",
      "batch_normalization_27 (BatchNo (None, 128, 128, 32) 128         conv2d_28[0][0]                  \n",
      "__________________________________________________________________________________________________\n",
      "activation_27 (Activation)      (None, 128, 128, 32) 0           batch_normalization_27[0][0]     \n",
      "__________________________________________________________________________________________________\n",
      "conv2d_29 (Conv2D)              (None, 128, 128, 1)  33          activation_27[0][0]              \n",
      "==================================================================================================\n",
      "Total params: 4,129,249\n",
      "Trainable params: 4,125,409\n",
      "Non-trainable params: 3,840\n",
      "__________________________________________________________________________________________________\n"
     ]
    }
   ],
   "source": [
    "model = build_unet((128,128,3), 1)\n",
    "model.summary()"
   ]
  },
  {
   "cell_type": "code",
   "execution_count": 34,
   "metadata": {},
   "outputs": [],
   "source": [
    "import re\n",
    "import os \n",
    "import glob \n",
    "\n",
    "class DataReader(object):\n",
    "    def __init__(self, img_dir, label_dir, img_size):\n",
    "        self.img_dir = img_dir\n",
    "        self.label_dir = label_dir\n",
    "        self.imgs_path = glob.glob(f\"{self.img_dir}/*.jpg\")\n",
    "        self.num_imgs = len(self.imgs_path)\n",
    "        self.width, self.height = img_size\n",
    "    \n",
    "    def __len__(self):\n",
    "        return self.num_imgs\n",
    "    \n",
    "    \n",
    "    def resize_crop_pad(self, img, is_label=False):\n",
    "        \"\"\"\n",
    "        img -> PIL.Image\n",
    "        return -> PIL.Image\n",
    "        \"\"\"\n",
    "        target_width, target_height = self.width, self.height\n",
    "        original_width, original_height = img.size\n",
    "        original_aspect_ratio = original_width / original_height\n",
    "        target_aspect_ratio = target_width / target_height\n",
    "        if original_aspect_ratio > target_aspect_ratio:\n",
    "            scale_factor = target_width / original_width\n",
    "        else:\n",
    "            scale_factor = target_height / original_height\n",
    "\n",
    "        resized_image = img.resize((int(original_width * scale_factor), int(original_height * scale_factor)), Image.BILINEAR)\n",
    "        if is_label:\n",
    "            padded_image = Image.new(\"L\", (target_width, target_height))\n",
    "        else:\n",
    "            padded_image = Image.new(\"RGB\", (target_width, target_height), color=(0, 0, 0))\n",
    "        paste_x = (target_width - resized_image.width) // 2\n",
    "        paste_y = (target_height - resized_image.height) // 2\n",
    "        padded_image.paste(resized_image, (paste_x, paste_y))\n",
    "\n",
    "        return padded_image\n",
    "    \n",
    "    def binarize_image(self, img):\n",
    "        \"\"\"\n",
    "        image -> PIL.Image\n",
    "        return -> PIL.Image\n",
    "        \"\"\"\n",
    "        img = img.convert(\"L\")\n",
    "        img_array = np.array(img)\n",
    "        binary_img_array = np.where(img_array > 0, 1, 0)\n",
    "        binary_img = Image.fromarray(binary_img_array.astype(np.uint8), mode=\"L\")\n",
    "        return binary_img\n",
    "    \n",
    "    \n",
    "    def find_label(self, img_path):\n",
    "        label_path = re.sub(self.img_dir, self.label_dir, img_path)\n",
    "        label_path = re.sub(\".jpg\", \".png\", label_path)\n",
    "        return label_path if os.path.exists(label_path) else None\n",
    "    \n",
    "    \n",
    "    def __getitem__(self, index):\n",
    "        img_path = self.imgs_path[index]\n",
    "        label_path = self.find_label(img_path)\n",
    "        img = Image.open(img_path)\n",
    "        img = self.resize_crop_pad(img)\n",
    "        label = Image.open(label_path)\n",
    "        label = self.resize_crop_pad(label, is_label=True)\n",
    "        label = self.binarize_image(label)\n",
    "        img_np = np.array(img) / 255.\n",
    "        label_np = np.expand_dims(np.array(label), -1)\n",
    "        return img_np, label_np        \n",
    "    \n",
    "    def iter(self):\n",
    "        for i in range(self.num_imgs):\n",
    "            yield self[i]"
   ]
  },
  {
   "cell_type": "code",
   "execution_count": 35,
   "metadata": {},
   "outputs": [],
   "source": [
    "batch_size = 4\n",
    "img_dir = \"/app/seg/data/images/train/\"\n",
    "label_dir = \"/app/seg/data/labels/train/\"\n",
    "data_reader = DataReader(img_dir, label_dir, img_size=(128, 128))\n",
    "dataset = tf.data.Dataset.from_generator(data_reader.iter,\n",
    "                                         output_types=(tf.float32, tf.float32),\n",
    "                                         output_shapes=([128, 128, 3], [128, 128, 1]))\n",
    "dataset = dataset.batch(batch_size).prefetch(tf.data.experimental.AUTOTUNE)"
   ]
  },
  {
   "cell_type": "code",
   "execution_count": 40,
   "metadata": {
    "collapsed": true,
    "jupyter": {
     "outputs_hidden": true
    }
   },
   "outputs": [
    {
     "name": "stdout",
     "output_type": "stream",
     "text": [
      "Epoch 1/50\n",
      "129/129 [==============================] - 3s 20ms/step - loss: 0.0936 - accuracy: 0.9613\n",
      "Epoch 2/50\n",
      "129/129 [==============================] - 2s 19ms/step - loss: 0.0895 - accuracy: 0.9630\n",
      "Epoch 3/50\n",
      "129/129 [==============================] - 3s 19ms/step - loss: 0.0842 - accuracy: 0.9653\n",
      "Epoch 4/50\n",
      "129/129 [==============================] - 2s 19ms/step - loss: 0.0777 - accuracy: 0.9677\n",
      "Epoch 5/50\n",
      "129/129 [==============================] - 3s 20ms/step - loss: 0.0784 - accuracy: 0.9675\n",
      "Epoch 6/50\n",
      "129/129 [==============================] - 2s 19ms/step - loss: 0.0754 - accuracy: 0.9687\n",
      "Epoch 7/50\n",
      "129/129 [==============================] - 3s 20ms/step - loss: 0.0719 - accuracy: 0.9702\n",
      "Epoch 8/50\n",
      "129/129 [==============================] - 2s 19ms/step - loss: 0.0699 - accuracy: 0.9710\n",
      "Epoch 9/50\n",
      "129/129 [==============================] - 3s 20ms/step - loss: 0.0666 - accuracy: 0.9722\n",
      "Epoch 10/50\n",
      "129/129 [==============================] - 2s 19ms/step - loss: 0.0612 - accuracy: 0.9743\n",
      "Epoch 11/50\n",
      "129/129 [==============================] - 3s 20ms/step - loss: 0.0653 - accuracy: 0.9728\n",
      "Epoch 12/50\n",
      "129/129 [==============================] - 2s 19ms/step - loss: 0.0588 - accuracy: 0.9753\n",
      "Epoch 13/50\n",
      "129/129 [==============================] - 3s 20ms/step - loss: 0.0593 - accuracy: 0.9751\n",
      "Epoch 14/50\n",
      "129/129 [==============================] - 2s 19ms/step - loss: 0.0588 - accuracy: 0.9754\n",
      "Epoch 15/50\n",
      "129/129 [==============================] - 3s 20ms/step - loss: 0.0584 - accuracy: 0.9757\n",
      "Epoch 16/50\n",
      "129/129 [==============================] - 2s 19ms/step - loss: 0.0565 - accuracy: 0.9766\n",
      "Epoch 17/50\n",
      "129/129 [==============================] - 3s 20ms/step - loss: 0.0513 - accuracy: 0.9784\n",
      "Epoch 18/50\n",
      "129/129 [==============================] - 2s 19ms/step - loss: 0.0506 - accuracy: 0.9789\n",
      "Epoch 19/50\n",
      "129/129 [==============================] - 3s 20ms/step - loss: 0.0431 - accuracy: 0.9817\n",
      "Epoch 20/50\n",
      "129/129 [==============================] - 3s 19ms/step - loss: 0.0410 - accuracy: 0.9825\n",
      "Epoch 21/50\n",
      "129/129 [==============================] - 3s 19ms/step - loss: 0.0529 - accuracy: 0.9780\n",
      "Epoch 22/50\n",
      "129/129 [==============================] - 3s 20ms/step - loss: 0.0449 - accuracy: 0.9811\n",
      "Epoch 23/50\n",
      "129/129 [==============================] - 3s 20ms/step - loss: 0.0387 - accuracy: 0.9835\n",
      "Epoch 24/50\n",
      "129/129 [==============================] - 3s 19ms/step - loss: 0.0395 - accuracy: 0.9834\n",
      "Epoch 25/50\n",
      "129/129 [==============================] - 2s 19ms/step - loss: 0.0430 - accuracy: 0.9819\n",
      "Epoch 26/50\n",
      "129/129 [==============================] - 3s 20ms/step - loss: 0.0362 - accuracy: 0.9845\n",
      "Epoch 27/50\n",
      "129/129 [==============================] - 3s 20ms/step - loss: 0.0402 - accuracy: 0.9829\n",
      "Epoch 28/50\n",
      "129/129 [==============================] - 3s 19ms/step - loss: 0.0494 - accuracy: 0.9795\n",
      "Epoch 29/50\n",
      "129/129 [==============================] - 3s 19ms/step - loss: 0.0562 - accuracy: 0.9768\n",
      "Epoch 30/50\n",
      "129/129 [==============================] - 3s 20ms/step - loss: 0.0368 - accuracy: 0.9844\n",
      "Epoch 31/50\n",
      "129/129 [==============================] - 3s 20ms/step - loss: 0.0323 - accuracy: 0.9861\n",
      "Epoch 32/50\n",
      "129/129 [==============================] - 3s 20ms/step - loss: 0.0304 - accuracy: 0.9869\n",
      "Epoch 33/50\n",
      "129/129 [==============================] - 2s 19ms/step - loss: 0.0312 - accuracy: 0.9866\n",
      "Epoch 34/50\n",
      "129/129 [==============================] - 3s 21ms/step - loss: 0.0346 - accuracy: 0.9852\n",
      "Epoch 35/50\n",
      "129/129 [==============================] - 2s 19ms/step - loss: 0.0360 - accuracy: 0.9846\n",
      "Epoch 36/50\n",
      "129/129 [==============================] - 3s 20ms/step - loss: 0.0409 - accuracy: 0.9828\n",
      "Epoch 37/50\n",
      "129/129 [==============================] - 2s 19ms/step - loss: 0.0345 - accuracy: 0.9854\n",
      "Epoch 38/50\n",
      "129/129 [==============================] - 2s 19ms/step - loss: 0.0294 - accuracy: 0.9874\n",
      "Epoch 39/50\n",
      "129/129 [==============================] - 2s 19ms/step - loss: 0.0268 - accuracy: 0.9885\n",
      "Epoch 40/50\n",
      "129/129 [==============================] - 3s 19ms/step - loss: 0.0264 - accuracy: 0.9886\n",
      "Epoch 41/50\n",
      "129/129 [==============================] - 3s 19ms/step - loss: 0.0266 - accuracy: 0.9885\n",
      "Epoch 42/50\n",
      "129/129 [==============================] - 3s 20ms/step - loss: 0.0286 - accuracy: 0.9877\n",
      "Epoch 43/50\n",
      "129/129 [==============================] - 3s 20ms/step - loss: 0.0594 - accuracy: 0.9766\n",
      "Epoch 44/50\n",
      "129/129 [==============================] - 3s 20ms/step - loss: 0.0462 - accuracy: 0.9812\n",
      "Epoch 45/50\n",
      "129/129 [==============================] - 3s 19ms/step - loss: 0.0319 - accuracy: 0.9866\n",
      "Epoch 46/50\n",
      "129/129 [==============================] - 3s 20ms/step - loss: 0.0259 - accuracy: 0.9889\n",
      "Epoch 47/50\n",
      "129/129 [==============================] - 3s 20ms/step - loss: 0.0236 - accuracy: 0.9899\n",
      "Epoch 48/50\n",
      "129/129 [==============================] - 3s 19ms/step - loss: 0.0233 - accuracy: 0.9900\n",
      "Epoch 49/50\n",
      "129/129 [==============================] - 3s 20ms/step - loss: 0.0247 - accuracy: 0.9893\n",
      "Epoch 50/50\n",
      "129/129 [==============================] - 3s 19ms/step - loss: 0.0254 - accuracy: 0.9890\n"
     ]
    }
   ],
   "source": [
    "from tensorflow.keras.optimizers import Adam\n",
    "from PIL import Image \n",
    "import numpy as np\n",
    "\n",
    "model.compile(optimizer=Adam(learning_rate=1e-3), loss='binary_crossentropy', metrics=['accuracy'])\n",
    "history = model.fit(dataset,\n",
    "                    epochs=50)"
   ]
  },
  {
   "cell_type": "code",
   "execution_count": 195,
   "metadata": {
    "jupyter": {
     "source_hidden": true
    }
   },
   "outputs": [],
   "source": [
    "def resize_crop_pad(img, is_label=False):\n",
    "    \"\"\"\n",
    "    img -> PIL.Image\n",
    "    return -> PIL.Image\n",
    "    \"\"\"\n",
    "    target_width, target_height = 128, 128\n",
    "    original_width, original_height = img.size\n",
    "    original_aspect_ratio = original_width / original_height\n",
    "    target_aspect_ratio = target_width / target_height\n",
    "    if original_aspect_ratio > target_aspect_ratio:\n",
    "        scale_factor = target_width / original_width\n",
    "    else:\n",
    "        scale_factor = target_height / original_height\n",
    "\n",
    "    resized_image = img.resize((int(original_width * scale_factor), int(original_height * scale_factor)), Image.BILINEAR)\n",
    "    if is_label:\n",
    "        padded_image = Image.new(\"L\", (target_width, target_height))\n",
    "    else:\n",
    "        padded_image = Image.new(\"RGB\", (target_width, target_height), color=(0, 0, 0))\n",
    "    paste_x = (target_width - resized_image.width) // 2\n",
    "    paste_y = (target_height - resized_image.height) // 2\n",
    "    padded_image.paste(resized_image, (paste_x, paste_y))\n",
    "\n",
    "    return padded_image"
   ]
  },
  {
   "cell_type": "code",
   "execution_count": 41,
   "metadata": {},
   "outputs": [
    {
     "name": "stdout",
     "output_type": "stream",
     "text": [
      "17/17 [==============================] - 0s 12ms/step - loss: 0.5783 - accuracy: 0.9010\n"
     ]
    },
    {
     "data": {
      "text/plain": [
       "[0.578319787979126, 0.9010323882102966]"
      ]
     },
     "execution_count": 41,
     "metadata": {},
     "output_type": "execute_result"
    }
   ],
   "source": [
    "img_dir = \"/app/seg/data/images/test/\"\n",
    "label_dir = \"/app/seg/data/labels/test/\"\n",
    "data_reader = DataReader(img_dir, label_dir, img_size=(128, 128))\n",
    "test_dataset = tf.data.Dataset.from_generator(data_reader.iter,\n",
    "                                         output_types=(tf.float32, tf.float32),\n",
    "                                         output_shapes=([128, 128, 3], [128, 128, 1]))\n",
    "test_dataset = test_dataset.batch(batch_size).prefetch(tf.data.experimental.AUTOTUNE)\n",
    "model.evaluate(test_dataset)"
   ]
  },
  {
   "cell_type": "code",
   "execution_count": 28,
   "metadata": {},
   "outputs": [
    {
     "name": "stdout",
     "output_type": "stream",
     "text": [
      "(128, 128, 3)\n"
     ]
    },
    {
     "data": {
      "image/png": "[encoded data removed]",
      "text/plain": [
       "<PIL.Image.Image image mode=RGB size=128x128 at 0x7F3E9ACD12E8>"
      ]
     },
     "metadata": {},
     "output_type": "display_data"
    },
    {
     "name": "stdout",
     "output_type": "stream",
     "text": [
      "(128, 128, 1)\n"
     ]
    },
    {
     "data": {
      "image/png": "[encoded data removed]",
      "text/plain": [
       "<PIL.Image.Image image mode=L size=128x128 at 0x7F3E9ACD16A0>"
      ]
     },
     "metadata": {},
     "output_type": "display_data"
    }
   ],
   "source": [
    "for x,y in test_dataset:\n",
    "    img = x[0]\n",
    "    print(img.shape)\n",
    "    np_array = np.array(img) * 255\n",
    "    img_p = Image.fromarray(np_array.astype(np.uint8))\n",
    "    img_p.show()\n",
    "    label = y[0]\n",
    "    print(label.shape)\n",
    "    label_array = np.squeeze(np.array(label)) * 255\n",
    "    label_p = Image.fromarray(label_array.astype(np.uint8), \"L\")\n",
    "    label_p.show()\n",
    "    break"
   ]
  },
  {
   "cell_type": "code",
   "execution_count": 12,
   "metadata": {},
   "outputs": [],
   "source": [
    "def resize_crop_pad(img, is_label=False):\n",
    "    \"\"\"\n",
    "    img -> PIL.Image\n",
    "    return -> PIL.Image\n",
    "    \"\"\"\n",
    "    target_width, target_height = 128, 128\n",
    "    original_width, original_height = img.size\n",
    "    original_aspect_ratio = original_width / original_height\n",
    "    target_aspect_ratio = target_width / target_height\n",
    "    if original_aspect_ratio > target_aspect_ratio:\n",
    "        scale_factor = target_width / original_width\n",
    "    else:\n",
    "        scale_factor = target_height / original_height\n",
    "\n",
    "    resized_image = img.resize((int(original_width * scale_factor), int(original_height * scale_factor)), Image.BILINEAR)\n",
    "    if is_label:\n",
    "        padded_image = Image.new(\"L\", (target_width, target_height))\n",
    "    else:\n",
    "        padded_image = Image.new(\"RGB\", (target_width, target_height), color=(0, 0, 0))\n",
    "    paste_x = (target_width - resized_image.width) // 2\n",
    "    paste_y = (target_height - resized_image.height) // 2\n",
    "    padded_image.paste(resized_image, (paste_x, paste_y))\n",
    "\n",
    "    return padded_image"
   ]
  },
  {
   "cell_type": "code",
   "execution_count": 59,
   "metadata": {},
   "outputs": [
    {
     "data": {
      "image/png": "[encoded data removed]",
      "text/plain": [
       "<PIL.Image.Image image mode=RGB size=128x128 at 0x7F3EB0322DA0>"
      ]
     },
     "metadata": {},
     "output_type": "display_data"
    },
    {
     "name": "stdout",
     "output_type": "stream",
     "text": [
      "(128, 128)\n"
     ]
    }
   ],
   "source": [
    "test_img = \"/app/seg/data/images/test/9300633320775_1708733394893_0_1708733407667_9604247.jpg\"\n",
    "test_img = Image.open(test_img)\n",
    "test_img = resize_crop_pad(test_img)\n",
    "test_img.show()\n",
    "test_img_np = np.array(test_img) / 255.\n",
    "test_img = np.expand_dims(test_img_np, 0)\n",
    "result = model(test_img)\n",
    "output = np.squeeze(result.numpy()) * 255\n",
    "# output = np.expand_dims(output, -1)\n",
    "print(output.shape)\n",
    "output = Image.fromarray(output.astype(np.uint8), \"L\")\n"
   ]
  },
  {
   "cell_type": "code",
   "execution_count": 60,
   "metadata": {},
   "outputs": [
    {
     "data": {
      "image/png": "[encoded data removed]",
      "text/plain": [
       "<PIL.Image.Image image mode=L size=128x128 at 0x7F3EB0322E48>"
      ]
     },
     "execution_count": 60,
     "metadata": {},
     "output_type": "execute_result"
    }
   ],
   "source": [
    "output"
   ]
  },
  {
   "cell_type": "code",
   "execution_count": 218,
   "metadata": {},
   "outputs": [
    {
     "data": {
      "image/png": "[encoded data removed]",
      "text/plain": [
       "<PIL.Image.Image image mode=L size=128x128 at 0x7F60C1BFB940>"
      ]
     },
     "execution_count": 218,
     "metadata": {},
     "output_type": "execute_result"
    }
   ],
   "source": [
    "label"
   ]
  },
  {
   "cell_type": "code",
   "execution_count": 167,
   "metadata": {},
   "outputs": [],
   "source": [
    "def apply_single_channel_mask(image, mask):\n",
    "    mask_3_channels = np.repeat(mask[:, :, np.newaxis], 3, axis=2)\n",
    "    masked_image = np.where(mask_3_channels, image, 0)\n",
    "    return masked_image"
   ]
  },
  {
   "cell_type": "code",
   "execution_count": 168,
   "metadata": {},
   "outputs": [],
   "source": [
    "def crop_masked_region(masked_image, mask):\n",
    "    # Find bounding box of the mask\n",
    "    non_zero_indices = np.argwhere(mask)\n",
    "    min_y, min_x = np.min(non_zero_indices, axis=0)\n",
    "    max_y, max_x = np.max(non_zero_indices, axis=0)\n",
    "\n",
    "    # Crop out the region containing the mask\n",
    "    cropped_masked_image = masked_image[min_y:max_y+1, min_x:max_x+1]\n",
    "\n",
    "    return cropped_masked_image"
   ]
  },
  {
   "cell_type": "code",
   "execution_count": 172,
   "metadata": {},
   "outputs": [],
   "source": [
    "seg = apply_single_channel_mask(img, np.array(label))\n",
    "cropped_masked_image = crop_masked_region(seg, label)\n",
    "seg = Image.fromarray(seg)\n",
    "crop_seg = Image.fromarray(cropped_masked_image)"
   ]
  },
  {
   "cell_type": "code",
   "execution_count": 173,
   "metadata": {},
   "outputs": [
    {
     "data": {
      "image/png": "[encoded data removed]",
      "text/plain": [
       "<PIL.Image.Image image mode=RGB size=128x128 at 0x7F60C1BFBC18>"
      ]
     },
     "execution_count": 173,
     "metadata": {},
     "output_type": "execute_result"
    }
   ],
   "source": [
    "seg"
   ]
  },
  {
   "cell_type": "code",
   "execution_count": 174,
   "metadata": {},
   "outputs": [
    {
     "data": {
      "image/png": "[encoded data removed]",
      "text/plain": [
       "<PIL.Image.Image image mode=RGB size=34x100 at 0x7F60C1BFBCF8>"
      ]
     },
     "execution_count": 174,
     "metadata": {},
     "output_type": "execute_result"
    }
   ],
   "source": [
    "crop_seg"
   ]
  },
  {
   "cell_type": "code",
   "execution_count": 54,
   "metadata": {},
   "outputs": [],
   "source": [
    "model.save(\"model.h5\")"
   ]
  },
  {
   "cell_type": "code",
   "execution_count": null,
   "metadata": {},
   "outputs": [],
   "source": []
  }
 ],
 "metadata": {
  "kernelspec": {
   "display_name": "Python 3",
   "language": "python",
   "name": "python3"
  },
  "language_info": {
   "codemirror_mode": {
    "name": "ipython",
    "version": 3
   },
   "file_extension": ".py",
   "mimetype": "text/x-python",
   "name": "python",
   "nbconvert_exporter": "python",
   "pygments_lexer": "ipython3",
   "version": "3.6.9"
  }
 },
 "nbformat": 4,
 "nbformat_minor": 4
}
